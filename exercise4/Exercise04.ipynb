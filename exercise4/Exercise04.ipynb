{
 "cells": [
  {
   "cell_type": "markdown",
   "metadata": {},
   "source": [
    "# Exercise 4: Multivariate analysis\n",
    "\n",
    "For this exercise we recommend using [SciKit-Learn](https://scikit-learn.org/stable/index.html)"
   ]
  },
  {
   "cell_type": "markdown",
   "metadata": {},
   "source": [
    "## Machine Learning for the $\\tau^-\\to\\mu^-\\mu^+\\mu^-$ search at LHCb\n",
    "\n",
    "The LHCb experiment at CERN is able to search for exotic decays of the $\\tau$ lepton to three muons. This process is fobidden in the Standard Model but is predicted to be sizeable in several theories beyond the Standard Model.\n",
    "\n",
    "Your goal is to maximise the chances to find this decay in the dataset collected by LHCb using a Machine Learning technique to classify the recorded events as signal or background.\n",
    "\n",
    "You are given a dataset composed of labelled signal (`signal==1`) and background (`signal==0`) events. Each event is described by a set of *features* whose distribution might be different between signal and background. The goal is to train a Machine Learning classifier to guess if an event is signal or background based on these features.\n",
    "\n",
    "Here's the list of features recorded in the dataset that you can use for the classification:\n",
    "* `DecayTime` - How long the $\\tau$ candidate existed before decaying.\n",
    "* `IP` - [Impact parameter](https://en.wikipedia.org/wiki/Impact_parameter) of the $\\tau$ candidate and the collision point.\n",
    "* `VertexChi2` - The $\\chi^2$ of a fit to locate the $\\tau$ decay vertex.\n",
    "* `pt` - Transverse momentum of the $\\tau$.\n",
    "* `DOCAone` - Distance of closest approach between first and second muons.\n",
    "* `DOCAtwo` - Distance of closest approach between second and third muons.\n",
    "* `DOCAthree` - Distance of closest approach between first and third muons.\n",
    "* `isolationa` - Track isolation variable.\n",
    "* `isolationb` - Track isolation variable.\n",
    "* `isolationc` - Track isolation variable.\n",
    "* `p0_pt` - Transverse momentum of the first muon.\n",
    "* `p1_pt` - Transverse momentum of the second muon.\n",
    "* `p2_pt` - Transverse momentum of the third muon.\n",
    "* `p0_IP` - Impact parameter of the first muon.\n",
    "* `p1_IP` - Impact parameter of the second muon.\n",
    "* `p2_IP` - Impact parameter of the third muon."
   ]
  },
  {
   "cell_type": "code",
   "execution_count": 2,
   "metadata": {},
   "outputs": [],
   "source": [
    "import pandas as pd\n",
    "d = pd.read_csv('training_reduced.csv')\n"
   ]
  },
  {
   "cell_type": "markdown",
   "metadata": {},
   "source": [
    "1. Calculate the [Kolmogorov-Smirnov test](https://en.wikipedia.org/wiki/Kolmogorov%E2%80%93Smirnov_test) between signal and background for each of the features of the dataset. The test evaluates how likely are two data samples to be drawn from the same PDF, and therefore should be larger for the features that are most powerful to discriminate signal and background.\n",
    "\n",
    "*Hint:* you can use the [`ks_2samp` function](https://docs.scipy.org/doc/scipy/reference/generated/scipy.stats.ks_2samp.html) from `scipy.stats` to compute the Kolmogorov-Smirnov test between two samples\n",
    "\n",
    "*Hint:* you can get the list of features from the DataFrame column headings, i.e. `d.keys()`"
   ]
  },
  {
   "cell_type": "code",
   "execution_count": 3,
   "metadata": {},
   "outputs": [
    {
     "name": "stdout",
     "output_type": "stream",
     "text": [
      "signal\n",
      "KstestResult(statistic=1.0, pvalue=0.0)\n",
      "LifeTime\n",
      "KstestResult(statistic=0.14423987132737376, pvalue=2.5633875826106553e-290)\n",
      "IP\n",
      "KstestResult(statistic=0.5503323429451006, pvalue=0.0)\n",
      "VertexChi2\n",
      "KstestResult(statistic=0.28567312506181025, pvalue=0.0)\n",
      "pt\n",
      "KstestResult(statistic=0.1377976891036844, pvalue=6.7965246029508e-265)\n",
      "DOCAone\n",
      "KstestResult(statistic=0.15488706886849868, pvalue=0.0)\n",
      "DOCAtwo\n",
      "KstestResult(statistic=0.15537702908242712, pvalue=0.0)\n",
      "DOCAthree\n",
      "KstestResult(statistic=0.14469064866972225, pvalue=3.8510728182137147e-292)\n",
      "isolationa\n",
      "KstestResult(statistic=0.24067798381021005, pvalue=0.0)\n",
      "isolationb\n",
      "KstestResult(statistic=0.16782063583131873, pvalue=0.0)\n",
      "isolationc\n",
      "KstestResult(statistic=0.1686414213935396, pvalue=0.0)\n",
      "p0_pt\n",
      "KstestResult(statistic=0.10270530235899855, pvalue=4.5061441238451737e-147)\n",
      "p1_pt\n",
      "KstestResult(statistic=0.1370815349196095, pvalue=3.850658338917715e-262)\n",
      "p2_pt\n",
      "KstestResult(statistic=0.039081124813342416, pvalue=1.2683241258042925e-21)\n",
      "p0_IP\n",
      "KstestResult(statistic=0.1283789911393617, pvalue=7.5456630574203215e-230)\n",
      "p1_IP\n",
      "KstestResult(statistic=0.01844486715444149, pvalue=3.7814198569140285e-05)\n",
      "p2_IP\n",
      "KstestResult(statistic=0.023197690690730743, pvalue=6.779898240186799e-08)\n"
     ]
    }
   ],
   "source": [
    "from scipy.stats import ks_2samp\n",
    "#help(ks_2samp)\n",
    "keys = d.keys()\n",
    "for key in keys:\n",
    "    # print(d[key][d[\"signal\"] == 0])\n",
    "    print(key)\n",
    "    print(ks_2samp(d[key][d[\"signal\"] == 0], d[key][d[\"signal\"] == 1]))"
   ]
  },
  {
   "cell_type": "code",
   "execution_count": null,
   "metadata": {},
   "outputs": [],
   "source": []
  },
  {
   "cell_type": "markdown",
   "metadata": {},
   "source": [
    "2. The least and most discriminating features are the ones with the lowest and highest Kolmogorov-Smirnov scores, respectively. Compare the signal and background distributions for these two features.\n",
    "\n",
    "**NB:** please do not use the label `signal` as a feature!"
   ]
  },
  {
   "cell_type": "code",
   "execution_count": 4,
   "metadata": {},
   "outputs": [
    {
     "data": {
      "image/png": "[encoded data removed]",
      "text/plain": [
       "<Figure size 432x288 with 1 Axes>"
      ]
     },
     "metadata": {
      "needs_background": "light"
     },
     "output_type": "display_data"
    },
    {
     "data": {
      "image/png": "[encoded data removed]",
      "text/plain": [
       "<Figure size 432x288 with 1 Axes>"
      ]
     },
     "metadata": {
      "needs_background": "light"
     },
     "output_type": "display_data"
    },
    {
     "data": {
      "image/png": "[encoded data removed]",
      "text/plain": [
       "<Figure size 432x288 with 1 Axes>"
      ]
     },
     "metadata": {
      "needs_background": "light"
     },
     "output_type": "display_data"
    }
   ],
   "source": [
    "# highest is IP\n",
    "#lowest p1_IP\n",
    "\n",
    "import matplotlib.pyplot as plt\n",
    "\n",
    "_,bins , _= plt.hist(d[\"IP\"][d[\"signal\"] == 1], alpha = 0.5, bins = 100)\n",
    "plt.hist(d[\"IP\"][d[\"signal\"] == 0], alpha = 0.5, bins = bins)\n",
    "# plt.hist(d[\"p1_IP\"], alpha = 0.5)\n",
    "plt.yscale(\"log\")\n",
    "plt.xlim((0,1))\n",
    "plt.ylabel(\"count\")\n",
    "plt.xlabel(\"feature IP\")\n",
    "plt.show()\n",
    "_,bins , _= plt.hist(d[\"IP\"][d[\"signal\"] == 1], alpha = 0.5, bins = 100)\n",
    "plt.hist(d[\"IP\"][d[\"signal\"] == 0], alpha = 0.5, bins = bins)\n",
    "# plt.hist(d[\"p1_IP\"], alpha = 0.5)\n",
    "plt.yscale(\"log\")\n",
    "plt.ylabel(\"count\")\n",
    "plt.xlabel(\"feature IP\")\n",
    "plt.show()\n",
    "\n",
    "_,bins , _= plt.hist(d[\"p1_IP\"][d[\"signal\"] == 1], alpha = 0.5, bins = 100) #not a good way to get the same bins\n",
    "plt.hist(d[\"p1_IP\"][d[\"signal\"] == 0], alpha = 0.5, bins = bins)\n",
    "# plt.hist(d[\"p1_IP\"], alpha = 0.5)\n",
    "plt.yscale(\"log\")\n",
    "plt.ylabel(\"count\")\n",
    "plt.xlabel(\"feature p1_IP\")\n",
    "plt.show()"
   ]
  },
  {
   "cell_type": "markdown",
   "metadata": {},
   "source": [
    "3. Split the dataset *randomly* in two halves: we will use one half for training our classifier and the other half to test it.\n",
    "\n",
    "*Hint:* you can use the function `train_test_split` from `sklearn.model_selection`\n",
    "\n",
    "**NB:** the dataset is ordered by `signal`, hence the need for random splitting."
   ]
  },
  {
   "cell_type": "code",
   "execution_count": 5,
   "metadata": {},
   "outputs": [
    {
     "name": "stdout",
     "output_type": "stream",
     "text": [
      "29164    1\n",
      "26587    1\n",
      "35989    1\n",
      "67220    1\n",
      "2448     0\n",
      "        ..\n",
      "22574    0\n",
      "49166    1\n",
      "23273    0\n",
      "27469    1\n",
      "7144     0\n",
      "Name: signal, Length: 33777, dtype: int64\n"
     ]
    }
   ],
   "source": [
    "from sklearn.model_selection import train_test_split\n",
    "X_train, X_test, y_train, y_test = train_test_split(d.drop(\"signal\", axis=1), d[\"signal\"], test_size = 0.5)\n",
    "\n",
    "# print(X_train)\n",
    "print(y_test)"
   ]
  },
  {
   "cell_type": "markdown",
   "metadata": {},
   "source": [
    "4.\n",
    "\n",
    "i. Train a [Gaussian naive Bayes classifier](https://scikit-learn.org/stable/modules/naive_bayes.html) on the training sample using the three features of your choice (possibly the most discriminant ones). You can use [`GaussianNB` from `sklearn.naive_bayes`](https://scikit-learn.org/stable/modules/generated/sklearn.naive_bayes.GaussianNB.html)"
   ]
  },
  {
   "cell_type": "code",
   "execution_count": 6,
   "metadata": {},
   "outputs": [
    {
     "name": "stderr",
     "output_type": "stream",
     "text": [
      "/usr/lib/python3.10/site-packages/sklearn/base.py:450: UserWarning: X does not have valid feature names, but GaussianNB was fitted with feature names\n",
      "  warnings.warn(\n"
     ]
    },
    {
     "data": {
      "text/plain": [
       "array([0])"
      ]
     },
     "execution_count": 6,
     "metadata": {},
     "output_type": "execute_result"
    }
   ],
   "source": [
    "from sklearn.naive_bayes import GaussianNB\n",
    "\n",
    "gnb = GaussianNB()\n",
    "\n",
    "gnb.fit(X_train[[\"IP\",\"VertexChi2\", \"isolationa\"]], y_train)\n",
    "\n",
    "gnb.predict([[0.23, 0.24, 23]])"
   ]
  },
  {
   "cell_type": "markdown",
   "metadata": {},
   "source": [
    "ii. Now train a [gradient-boosted decision tree (GBDT)](https://scikit-learn.org/stable/modules/ensemble.html#gradient-tree-boosting) on the training sample using the same three features. You can use [`GradientBoostingClassifier` from `sklearn.ensemble`](https://scikit-learn.org/stable/modules/generated/sklearn.ensemble.GradientBoostingClassifier.html)"
   ]
  },
  {
   "cell_type": "code",
   "execution_count": 7,
   "metadata": {},
   "outputs": [
    {
     "name": "stderr",
     "output_type": "stream",
     "text": [
      "/usr/lib/python3.10/site-packages/sklearn/base.py:450: UserWarning: X does not have valid feature names, but GradientBoostingClassifier was fitted with feature names\n",
      "  warnings.warn(\n"
     ]
    },
    {
     "data": {
      "text/plain": [
       "array([0])"
      ]
     },
     "execution_count": 7,
     "metadata": {},
     "output_type": "execute_result"
    }
   ],
   "source": [
    "from sklearn.ensemble import GradientBoostingClassifier\n",
    "\n",
    "gbc = GradientBoostingClassifier().fit(X_train[[\"IP\",\"VertexChi2\", \"isolationa\"]], y_train)\n",
    "\n",
    "gbc.predict([[0.23, 0.24, 23]])\n"
   ]
  },
  {
   "cell_type": "markdown",
   "metadata": {},
   "source": [
    "5. Calculate the classifier responses on both the training and testing samples and overlay histograms of the response for signal and background.\n",
    "\n",
    "*Hint:* to evaluate the response use `gbdt.decision_function()` and `gnb.predict_proba()`\n",
    "\n",
    "*Hint:* the `predict_proba()` function will return a 2D array: background & signal probabilities for each point in the sample. You can call `predict_proba(...)[:,0]` or `predict_proba(...)[:,1]` to obtain just the signal score."
   ]
  },
  {
   "cell_type": "code",
   "execution_count": 8,
   "metadata": {},
   "outputs": [
    {
     "data": {
      "image/png": "[encoded data removed]",
      "text/plain": [
       "<Figure size 432x288 with 1 Axes>"
      ]
     },
     "metadata": {
      "needs_background": "light"
     },
     "output_type": "display_data"
    }
   ],
   "source": [
    "gnbDecision = gnb.predict_proba(X_test[[\"IP\",\"VertexChi2\", \"isolationa\"]])\n",
    "\n",
    "\n",
    "gbcPredict = gbc.predict_proba(X_test[[\"IP\",\"VertexChi2\", \"isolationa\"]])\n",
    "\n",
    "# print(gnb.predict(X_test[[\"IP\",\"VertexChi2\", \"isolationa\"]]))\n",
    "# print(gnbDecision) # [0 1]\n",
    "# print(gbcPredict)\n",
    "\n",
    "_, bins,_ = plt.hist(gnbDecision[:,1], alpha = 0.5, bins = 100)\n",
    "plt.hist(gbcPredict[:,1], bins=bins, alpha = 0.5)\n",
    "plt.xlabel(\"response\")\n",
    "plt.ylabel(\"count\")\n",
    "plt.show()"
   ]
  },
  {
   "cell_type": "markdown",
   "metadata": {},
   "source": [
    "6. Check if there is overtraining by performing a Kolmogorov-Smirnov test on the classifier responses between the training and testing sample. If you did not overtrain the classifier, its response should be the same on the training and testing samples both for signal and for background. Therefore the K-S scores should be small (~0.01)."
   ]
  },
  {
   "cell_type": "code",
   "execution_count": 9,
   "metadata": {},
   "outputs": [
    {
     "name": "stdout",
     "output_type": "stream",
     "text": [
      "KstestResult(statistic=0.005905157972679764, pvalue=0.5958376988488637)\n",
      "KstestResult(statistic=0.0068854078622814785, pvalue=0.39818645193475743)\n"
     ]
    }
   ],
   "source": [
    "gnbDecisionTrain = gnb.predict_proba(X_train[[\"IP\",\"VertexChi2\", \"isolationa\"]])\n",
    "\n",
    "\n",
    "gbcPredictTrain = gbc.predict_proba(X_train[[\"IP\",\"VertexChi2\", \"isolationa\"]])\n",
    "\n",
    "\n",
    "ks_gnb = ks_2samp(gnbDecision[:,1],gnbDecisionTrain[:,1])\n",
    "ks_gbc = ks_2samp(gbcPredict[:,1],gbcPredictTrain[:,1])\n",
    "\n",
    "print(ks_gnb)\n",
    "print(ks_gbc)"
   ]
  },
  {
   "cell_type": "markdown",
   "metadata": {},
   "source": [
    "7. Show the performance of your classifiers with a ROC curve. Plot the ROC curves on the same plot and label the axes.\n",
    "\n",
    "*Hint:* you can use the function `roc_curve` from `sklearn.metrics`"
   ]
  },
  {
   "cell_type": "code",
   "execution_count": 23,
   "metadata": {},
   "outputs": [
    {
     "name": "stdout",
     "output_type": "stream",
     "text": [
      "Help on function roc_curve in module sklearn.metrics._ranking:\n",
      "\n",
      "roc_curve(y_true, y_score, *, pos_label=None, sample_weight=None, drop_intermediate=True)\n",
      "    Compute Receiver operating characteristic (ROC).\n",
      "    \n",
      "    Note: this implementation is restricted to the binary classification task.\n",
      "    \n",
      "    Read more in the :ref:`User Guide <roc_metrics>`.\n",
      "    \n",
      "    Parameters\n",
      "    ----------\n",
      "    y_true : ndarray of shape (n_samples,)\n",
      "        True binary labels. If labels are not either {-1, 1} or {0, 1}, then\n",
      "        pos_label should be explicitly given.\n",
      "    \n",
      "    y_score : ndarray of shape (n_samples,)\n",
      "        Target scores, can either be probability estimates of the positive\n",
      "        class, confidence values, or non-thresholded measure of decisions\n",
      "        (as returned by \"decision_function\" on some classifiers).\n",
      "    \n",
      "    pos_label : int or str, default=None\n",
      "        The label of the positive class.\n",
      "        When ``pos_label=None``, if `y_true` is in {-1, 1} or {0, 1},\n",
      "        ``pos_label`` is set to 1, otherwise an error will be raised.\n",
      "    \n",
      "    sample_weight : array-like of shape (n_samples,), default=None\n",
      "        Sample weights.\n",
      "    \n",
      "    drop_intermediate : bool, default=True\n",
      "        Whether to drop some suboptimal thresholds which would not appear\n",
      "        on a plotted ROC curve. This is useful in order to create lighter\n",
      "        ROC curves.\n",
      "    \n",
      "        .. versionadded:: 0.17\n",
      "           parameter *drop_intermediate*.\n",
      "    \n",
      "    Returns\n",
      "    -------\n",
      "    fpr : ndarray of shape (>2,)\n",
      "        Increasing false positive rates such that element i is the false\n",
      "        positive rate of predictions with score >= `thresholds[i]`.\n",
      "    \n",
      "    tpr : ndarray of shape (>2,)\n",
      "        Increasing true positive rates such that element `i` is the true\n",
      "        positive rate of predictions with score >= `thresholds[i]`.\n",
      "    \n",
      "    thresholds : ndarray of shape = (n_thresholds,)\n",
      "        Decreasing thresholds on the decision function used to compute\n",
      "        fpr and tpr. `thresholds[0]` represents no instances being predicted\n",
      "        and is arbitrarily set to `max(y_score) + 1`.\n",
      "    \n",
      "    See Also\n",
      "    --------\n",
      "    RocCurveDisplay.from_estimator : Plot Receiver Operating Characteristic\n",
      "        (ROC) curve given an estimator and some data.\n",
      "    RocCurveDisplay.from_predictions : Plot Receiver Operating Characteristic\n",
      "        (ROC) curve given the true and predicted values.\n",
      "    det_curve: Compute error rates for different probability thresholds.\n",
      "    roc_auc_score : Compute the area under the ROC curve.\n",
      "    \n",
      "    Notes\n",
      "    -----\n",
      "    Since the thresholds are sorted from low to high values, they\n",
      "    are reversed upon returning them to ensure they correspond to both ``fpr``\n",
      "    and ``tpr``, which are sorted in reversed order during their calculation.\n",
      "    \n",
      "    References\n",
      "    ----------\n",
      "    .. [1] `Wikipedia entry for the Receiver operating characteristic\n",
      "            <https://en.wikipedia.org/wiki/Receiver_operating_characteristic>`_\n",
      "    \n",
      "    .. [2] Fawcett T. An introduction to ROC analysis[J]. Pattern Recognition\n",
      "           Letters, 2006, 27(8):861-874.\n",
      "    \n",
      "    Examples\n",
      "    --------\n",
      "    >>> import numpy as np\n",
      "    >>> from sklearn import metrics\n",
      "    >>> y = np.array([1, 1, 2, 2])\n",
      "    >>> scores = np.array([0.1, 0.4, 0.35, 0.8])\n",
      "    >>> fpr, tpr, thresholds = metrics.roc_curve(y, scores, pos_label=2)\n",
      "    >>> fpr\n",
      "    array([0. , 0. , 0.5, 0.5, 1. ])\n",
      "    >>> tpr\n",
      "    array([0. , 0.5, 0.5, 1. , 1. ])\n",
      "    >>> thresholds\n",
      "    array([1.8 , 0.8 , 0.4 , 0.35, 0.1 ])\n",
      "\n"
     ]
    }
   ],
   "source": [
    "from sklearn.metrics import roc_curve\n",
    "help(roc_curve)\n",
    "\n",
    "rocgnb = roc_curve(y_test, gnb.predict_proba(X_test[[\"IP\",\"VertexChi2\", \"isolationa\"]]) , pos_label=1, drop_intermediate = False)\n",
    "rocgbc = roc_curve(y_test, gbc.predict_proba(X_test[[\"IP\",\"VertexChi2\", \"isolationa\"]]) , pos_label=1, drop_intermediate = False)"
   ]
  },
  {
   "cell_type": "code",
   "execution_count": 24,
   "metadata": {},
   "outputs": [
    {
     "data": {
      "text/plain": [
       "Text(0, 0.5, 'efficiency')"
      ]
     },
     "execution_count": 24,
     "metadata": {},
     "output_type": "execute_result"
    },
    {
     "data": {
      "image/png": "[encoded data removed]",
      "text/plain": [
       "<Figure size 432x288 with 1 Axes>"
      ]
     },
     "metadata": {
      "needs_background": "light"
     },
     "output_type": "display_data"
    }
   ],
   "source": [
    "plt.scatter(rocgnb[0], rocgnb[1])\n",
    "plt.scatter(rocgbc[0],rocgbc[1])\n",
    "plt.xlabel(\"1 - purity eg. error rate\")\n",
    "plt.ylabel(\"efficiency\")"
   ]
  },
  {
   "cell_type": "markdown",
   "metadata": {},
   "source": [
    "**Bonus**: Try to improve the performance of your classifier by including more features and changing the initialisation options of the `GradientBoostingClassifier` object."
   ]
  },
  {
   "cell_type": "code",
   "execution_count": null,
   "metadata": {},
   "outputs": [],
   "source": []
  }
 ],
 "metadata": {
  "celltoolbar": "Create Assignment",
  "interpreter": {
   "hash": "916dbcbb3f70747c44a77c7bcd40155683ae19c65e1c03b4aa3499c5328201f1"
  },
  "kernelspec": {
   "display_name": "Python 3.9.2 64-bit",
   "language": "python",
   "name": "python3"
  },
  "language_info": {
   "codemirror_mode": {
    "name": "ipython",
    "version": 3
   },
   "file_extension": ".py",
   "mimetype": "text/x-python",
   "name": "python",
   "nbconvert_exporter": "python",
   "pygments_lexer": "ipython3",
   "version": "3.10.5"
  }
 },
 "nbformat": 4,
 "nbformat_minor": 2
}

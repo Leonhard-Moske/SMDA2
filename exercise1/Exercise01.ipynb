{
 "cells": [
  {
   "cell_type": "markdown",
   "metadata": {},
   "source": [
    "# Exercise 1: Maximum-likelihood fitting\n",
    "\n",
    "In this exercise we will implement a maximum-likelihood fit using the common example of fitting a Gaussian curve to some normally-distributed data.\n",
    "\n",
    "The main task will be to implement a gradient-descent algorithm.\n"
   ]
  },
  {
   "cell_type": "markdown",
   "metadata": {},
   "source": [
    "## Parameters\n",
    "\n",
    "The objective of fitting a PDF to data is to find the values of the PDF's parameters that maximise the likelihood, thus giving the best description of a dataset (i.e. the best fit).\n",
    "\n",
    "While it's possible to store parameters as simple `float`s, we ask that you implement a class that stores the parameter value and a range that the value cannot stray outside during the fit. This will be especially helpful while testing and debugging your minimiser"
   ]
  },
  {
   "cell_type": "markdown",
   "metadata": {},
   "source": [
    "## PDFs and likelihoods\n",
    "\n",
    "A Gaussian PDF is defined as:\n",
    "$$\n",
    "f(x|\\mu,\\sigma) = \\frac{1}{\\sigma \\sqrt{2 \\pi}} \\exp\\left(-\\frac{(x - \\mu)^2}{2\\sigma^2}\\right)\n",
    "$$\n",
    "\n",
    "The likelihood is the product of the PDF evaluated on all points $\\{x_i\\}$ in a dataset (assuming all points are independent):\n",
    "\n",
    "$$\n",
    "\\mathcal{L}(\\mu,\\sigma) = \\prod_i f(x_i|\\mu,\\sigma)\n",
    "$$\n",
    "\n",
    "Rather than maximise the likelihood, it is easier computationally to minimise the negative log-likelihood:\n",
    "$$\n",
    "-\\log(\\mathcal{L}(\\mu,\\sigma)) = -\\sum_i\\log(f(x_i|\\mu,\\sigma))\n",
    "$$"
   ]
  },
  {
   "cell_type": "markdown",
   "metadata": {},
   "source": [
    "## Minimisation via gradient descent\n",
    "\n",
    "Gradient descent is a method of finding the local minimum of a differentiable function by following the local gradient.\n",
    "\n",
    "Note that the local minimum may not be the same as the global minimum. There are strategies to avoid a local-but-not-global minimum, such as performing a fit multiple times with random starting values.\n",
    "\n",
    "Say we have a multivariate function $L(\\vec{\\theta})$, where $\\vec{\\theta} = [\\theta_1, \\theta_2, ..., \\theta_n].$ _**NB**: in this exercise, $L(\\vec{\\theta})=-\\log(\\mathcal{L}(\\mu,\\sigma))$, the negative log-likelihood._\n",
    "\n",
    "The gradient of the function is $$\\nabla_\\theta L(\\vec{\\theta}) = \\left[\\frac{\\partial L}{\\partial \\theta_1}, \\frac{\\partial L}{\\partial \\theta_2}, ..., \\frac{\\partial L}{\\partial \\theta_n}\\right].$$\n",
    "\n",
    "Starting from some initial position $\\vec{\\theta}_i$, one can descend the gradient towards the minimum by subtracting an amount proportional to the local gradient: $$\\vec{\\theta}_{t} = \\vec{\\theta}_{t-1} - \\eta_t \\nabla_\\theta L(\\vec{\\theta}_{t-1}),$$ where $\\eta_t$ is the \"step size\". This can be repeated until $\\vec{\\theta}$ converges on the values that minimise $L(\\vec{\\theta})$ (i.e. the best-fit values $\\vec{\\hat{\\theta}}$).\n",
    "\n",
    "The exact criterion for achieving convergence is up to you to decide and implement.\n",
    "A good starting point is to use the relative change $$\\left|\\frac{L(\\vec{\\theta}_{i})-L(\\vec{\\theta}_{i-1})}{L(\\vec{\\theta}_{i})+L(\\vec{\\theta}_{i-1})}\\right|$$ and stop when it goes below some threshold.\n",
    "\n",
    "Choosing an appropriate step size $\\eta_t$ is crucial for an optimal balance between speed and precision, and many methods are available for doing this. Note that it does not need to be a fixed size and can be adjusted at each iteration.\n",
    "\n",
    "### Batch vs stochastic\n",
    "\n",
    "In batch gradient descent, the parameters are updated using the likelihood calculated over the full dataset.\n",
    "\n",
    "In stochastic gradient descent, the parameters are updated for each datapoint (using $\\nabla_\\theta L(\\vec{\\theta}, x_i)$), or a sub-sample of the full dataset (mini-batch).\n",
    "\n",
    "*See the lecture notes for more.*\n",
    "\n",
    "### Momentum\n",
    "\n",
    "Useful particularly in stochastic/mini-batch gradient descent is the idea of 'momentum'. Where the parameters are updated using: $$\\vec{\\theta}_t = \\vec{\\theta}_{t-1} - \\vec{v}_t,$$ where $$\\vec{v}_t = \\gamma \\vec{v}_{t-1} + \\eta_t \\nabla_\\theta L(\\vec{\\theta}_{t-1}, x),$$ where $\\gamma$ is the momentum parameter $0 < \\gamma < 1$ (typically around 0.9).\n",
    "\n",
    "### Nesterov's accelerated gradient descent\n",
    "\n",
    "Using momentum we can 'look ahead' to where the next update will be approximately, without calculating a new gradient: $$\\vec{\\theta}_t \\approx \\vec{\\theta}_{t-1} - \\gamma \\vec{v}_{t-1}$$\n",
    "\n",
    "We can instead use that position when calculating the new gradient, so $\\vec{v}_t$ becomes: $$\\vec{v}_t = \\gamma \\vec{v}_{t-1} + \\eta_t \\nabla_\\theta L(\\vec{\\theta}_{t-1} - \\gamma \\vec{v}_{t-1}, x).$$"
   ]
  },
  {
   "cell_type": "markdown",
   "metadata": {},
   "source": [
    "## Implementing your own gradient-descent minimiser\n",
    "\n",
    "Here you should implement:\n",
    "1. A parameter class that holds the value and allowed range of a parameter\n",
    "  - When setting a value outside the allowed range, force the value to equal the nearest boundary\n",
    "2. A Gaussian PDF class or function using parameters that control its mean and standard deviation\n",
    "3. A gradient-descent minimiser which iteratively:\n",
    "  - Calcualtes the likelihood gradient at the current values of the fit parameters\n",
    "  - Updates the parameters following the gradient\n",
    "  - Saves the likelihood in a list (for plotting later)\n",
    "  - Stops the fit if it has converged (or if a maximum number of iterations have been reached)"
   ]
  },
  {
   "cell_type": "code",
   "execution_count": 1,
   "metadata": {},
   "outputs": [
    {
     "name": "stdout",
     "output_type": "stream",
     "text": [
      "0.5\n",
      "56.998500000077\n",
      "-1083.6281717150769\n"
     ]
    }
   ],
   "source": [
    "# Implement the parameter class, the Guassian PDF and gradient-descent minimisation here\n",
    "# You can create extra cells if you wish\n",
    "\n",
    "import numpy as np\n",
    "from scipy.stats import norm\n",
    "import copy\n",
    "\n",
    "class Theta:\n",
    "    value = None\n",
    "    upperBound = None\n",
    "    lowerBound = None\n",
    "\n",
    "    def __init__(self, lowerBound, upperBound):\n",
    "        if upperBound < lowerBound:\n",
    "            print(\"upper boundary lower than lower boundary\")\n",
    "        elif upperBound == lowerBound:\n",
    "            print(\"upper boundary equal to lower boundary\")\n",
    "        else:\n",
    "            self.upperBound = upperBound\n",
    "            self.lowerBound = lowerBound\n",
    "\n",
    "    def update(self, newValue):\n",
    "        self.value = np.clip(newValue, self.lowerBound, self.upperBound)\n",
    "\n",
    "param = Theta(-1,1)\n",
    "param.update(0.5)\n",
    "print(param.value)\n",
    "\n",
    "sigma = Theta(-1,1)\n",
    "mean = Theta(-20,20)\n",
    "sigma.update(1)\n",
    "mean.update(0)\n",
    "\n",
    "def normalPDF(x, params): #params is [mean,sigma]\n",
    "    # print(norm(params[0].value,params[1].value).pdf(x), x, params[0].value, params[1].value)\n",
    "    return norm(params[0].value,params[1].value).pdf(x)\n",
    "\n",
    "def logLikely(data, params, function):\n",
    "    sum = 0\n",
    "    tmp = np.asarray([function(x,params) for x in data])\n",
    "    #print(tmp, \"tmp\", np.log(tmp))\n",
    "    sum = np.sum(np.log(tmp))\n",
    "    return -sum\n",
    "\n",
    "#likelyhood function with (dataarray, parameterarray, function)\n",
    "#theta is deepcopy\n",
    "def gradient(theta, likelyhood, data, directionIndex, eps, function):\n",
    "    theta[directionIndex].update(theta[directionIndex].value + eps/2)\n",
    "    pos = likelyhood(data,theta,function)\n",
    "    # print(\"grad\", pos, directionIndex, theta[0].value)\n",
    "    theta[directionIndex].update(theta[directionIndex].value - eps)\n",
    "    neg = likelyhood(data,theta,function)\n",
    "    # print(\"grad\", pos, neg, directionIndex, theta[0].value)\n",
    "    grad = (pos - neg)/eps\n",
    "    return grad\n",
    "\n",
    "\n",
    "def gradientStep(theta, learningRate, likelyhood, data, eps, function):\n",
    "    tmp = copy.deepcopy(theta)\n",
    "    for i,par in enumerate(theta):\n",
    "        par.update(par.value - learningRate*gradient(copy.deepcopy(tmp),likelyhood,data,i,eps,function))\n",
    "    return theta\n",
    "\n",
    "def momentumGradientStep(theta, learningRate, likelyhood, data, eps, function, gamma, v):\n",
    "    tmp = copy.deepcopy(theta)\n",
    "    newV = np.empty(2)\n",
    "    for i,vi in enumerate(v):\n",
    "        #print( (gamma*vi + learningRate*gradient(copy.deepcopy(tmp),likelyhood,data,i,eps,function)), i, type(vi))\n",
    "        newV[i] = (gamma*vi + learningRate*gradient(copy.deepcopy(tmp),likelyhood,data,i,eps,function))\n",
    "    for i,par in enumerate(theta):\n",
    "        par.update(par.value - newV[i])\n",
    "        #print(par.value, newV[i])\n",
    "    return newV\n",
    "\n",
    "def nesterovStep(theta, learningRate, likelyhood, data, eps, function, gamma, v):\n",
    "    tmp = copy.deepcopy(theta)\n",
    "    newV = np.empty(2)\n",
    "    for i,par in enumerate(tmp):\n",
    "        par.update(par.value - gamma * v[i])\n",
    "    for i,vi in enumerate(v):\n",
    "        # print(learningRate*gradient(copy.deepcopy(tmp),likelyhood,data,i,eps,function), i)\n",
    "        newV[i] = (gamma*vi + learningRate*gradient(copy.deepcopy(tmp),likelyhood,data,i,eps,function))\n",
    "    for i,par in enumerate(theta):\n",
    "        par.update(par.value - newV[i])\n",
    "    return newV\n",
    "\n",
    "def gradientDecend(theta, learningRate, likelyhood, data, Gradeps, function, maxStep, stopEps):\n",
    "    LtMinusOne = 0\n",
    "    Lt = 0\n",
    "    Step = 0 \n",
    "    likelyhoodHistory = np.empty(0)\n",
    "    while Step < maxStep:\n",
    "        LtMinusOne = likelyhood(data, theta, function)\n",
    "        gradientStep(theta, learningRate, likelyhood, data, Gradeps, function)\n",
    "        Lt = likelyhood(data, theta, function)\n",
    "        likelyhoodHistory= np.append(likelyhoodHistory,Lt)\n",
    "        Step += 1\n",
    "        if (np.abs((LtMinusOne - Lt)))/(np.abs((LtMinusOne + Lt))) < stopEps:\n",
    "            print(Step)\n",
    "            return (theta, likelyhoodHistory)\n",
    "    return (theta, likelyhoodHistory)\n",
    "\n",
    "def stochasticGradientDecent(theta, learningRate, likelyhood, data, Gradeps, function, maxStep, stopEps,batchSize):\n",
    "    LtMinusOne = 0\n",
    "    Lt = 0\n",
    "    likelyhoodHistory = np.empty(0)\n",
    "    Step = 0 \n",
    "    while Step < maxStep:\n",
    "        LtMinusOne = likelyhood(data, theta, function)\n",
    "        gradientStep(theta, learningRate, likelyhood, np.random.choice(data,size=batchSize), Gradeps, function)\n",
    "        Lt = likelyhood(data, theta, function)\n",
    "        likelyhoodHistory= np.append(likelyhoodHistory,Lt)\n",
    "        Step += 1\n",
    "        if (np.abs((LtMinusOne - Lt)))/(np.abs((LtMinusOne + Lt))) < stopEps:\n",
    "            print(Step)\n",
    "            return (theta, likelyhoodHistory)\n",
    "    return (theta, likelyhoodHistory)\n",
    "\n",
    "def momentumGradientDecent(theta, learningRate, likelyhood, data, Gradeps, function, maxStep, stopEps, batchSize, gamma):\n",
    "    LtMinusOne = 0\n",
    "    Lt = 0\n",
    "    likelyhoodHistory = np.empty(0)\n",
    "    Step = 0 \n",
    "    v = np.asarray([0,0])\n",
    "    while Step < maxStep:\n",
    "        LtMinusOne = likelyhood(data, theta, function)\n",
    "        v = momentumGradientStep(theta, learningRate, likelyhood, np.random.choice(data,size=batchSize), Gradeps, function, gamma, v)\n",
    "        Lt = likelyhood(data, theta, function)\n",
    "        likelyhoodHistory= np.append(likelyhoodHistory,Lt)\n",
    "        Step += 1\n",
    "        if (np.abs((LtMinusOne - Lt)))/(np.abs((LtMinusOne + Lt))) < stopEps:\n",
    "            print(Step)\n",
    "            return (theta, likelyhoodHistory)\n",
    "    return (theta, likelyhoodHistory)\n",
    "\n",
    "def nesterovGradientDecent(theta, learningRate, likelyhood, data, Gradeps, function, maxStep, stopEps, batchSize, gamma):\n",
    "    LtMinusOne = 0\n",
    "    Lt = 0\n",
    "    Step = 0 \n",
    "    likelyhoodHistory = np.empty(0)\n",
    "    v = np.asarray([0,0])\n",
    "    while Step < maxStep:\n",
    "        LtMinusOne = likelyhood(data, theta, function)\n",
    "        v = nesterovStep(theta, learningRate, likelyhood, np.random.choice(data,size=batchSize), Gradeps, function, gamma, v)\n",
    "        Lt = likelyhood(data, theta, function)\n",
    "        likelyhoodHistory= np.append(likelyhoodHistory,Lt)\n",
    "        Step += 1\n",
    "        if (np.abs((LtMinusOne - Lt)))/(np.abs((LtMinusOne + Lt))) < stopEps:\n",
    "            print(Step)\n",
    "            return (theta, likelyhoodHistory)\n",
    "    print(\"max steps\")\n",
    "    return (theta, likelyhoodHistory)\n",
    "\n",
    "sigma = Theta(-1,1)\n",
    "mean = Theta(-20,20)\n",
    "sigma.update(1)\n",
    "mean.update(20)\n",
    "theta = np.asarray([mean,sigma])\n",
    "data = np.asarray([0,1,2])\n",
    "\n",
    "print(gradient(copy.deepcopy(theta),logLikely,data,0,0.001,normalPDF))\n",
    "print(gradient(copy.deepcopy(theta),logLikely,data,1,0.001,normalPDF))"
   ]
  },
  {
   "cell_type": "markdown",
   "metadata": {},
   "source": [
    "## Fitting data\n",
    "\n",
    "The data sample provided with this sheet consists of Gaussian-distributed measurements of the $B^0$ meson mass, in units of MeV. The standard deviation of the distribution is dominated by the resolution of the detector used to make the measurement.\n",
    "\n",
    "Your task is to obtain best-fit values for the mass of the meson (i.e. the mean, $\\mu$) and the detector resolution (i.e. the standard deviation $\\sigma$) using your minimiser and Gaussian PDFs implemented above.\n",
    "\n",
    "In the cell below, the data is loaded into a [Pandas DataFrame](https://pandas.pydata.org/pandas-docs/stable/reference/api/pandas.DataFrame.html) and plotted as a [Matplotlib histogram](https://matplotlib.org/stable/api/_as_gen/matplotlib.pyplot.hist.html). This should give you an idea of which starting values and ranges to set for the parameters."
   ]
  },
  {
   "cell_type": "code",
   "execution_count": 2,
   "metadata": {},
   "outputs": [
    {
     "data": {
      "image/png": "[encoded data removed]",
      "text/plain": [
       "<Figure size 432x288 with 1 Axes>"
      ]
     },
     "metadata": {
      "needs_background": "light"
     },
     "output_type": "display_data"
    },
    {
     "name": "stdout",
     "output_type": "stream",
     "text": [
      "1000\n"
     ]
    }
   ],
   "source": [
    "import pandas as pd\n",
    "from matplotlib import pyplot as plt\n",
    "\n",
    "df = pd.read_csv(\"test_data.csv\", names=[\"mass\"])\n",
    "\n",
    "num_bins = 50\n",
    "_, bins, _ = plt.hist(df[\"mass\"], num_bins)\n",
    "bin_width = (bins[-1] - bins[0])/num_bins\n",
    "plt.xlabel(\"Mass [MeV]\")\n",
    "plt.ylabel(f\"Events / ({bin_width:.1f} MeV)\")\n",
    "plt.show()\n",
    "\n",
    "print(len(df[\"mass\"]))"
   ]
  },
  {
   "cell_type": "code",
   "execution_count": 3,
   "metadata": {},
   "outputs": [
    {
     "name": "stdout",
     "output_type": "stream",
     "text": [
      "14\n",
      "5298.043282040453 97.6388950337423\n"
     ]
    }
   ],
   "source": [
    "# Use this cell to perform a fit to the data\n",
    "\n",
    "params = []\n",
    "likelyhoodHistory = []\n",
    "\n",
    "sigma = Theta(0,300)\n",
    "mean = Theta(5000,5600)\n",
    "sigma.update(400)\n",
    "mean.update(5250)\n",
    "theta = np.asarray([mean,sigma])\n",
    "likelyhoodHistory.append(gradientDecend(theta, 5, logLikely, df[\"mass\"], 0.001, normalPDF, 20, 0.0002)[1])\n",
    "print(theta[0].value, theta[1].value)\n",
    "params.append(theta)"
   ]
  },
  {
   "cell_type": "code",
   "execution_count": null,
   "metadata": {},
   "outputs": [
    {
     "name": "stdout",
     "output_type": "stream",
     "text": [
      "5272.290705157957 184.44979126143153\n"
     ]
    }
   ],
   "source": [
    "sigma = Theta(0,300)\n",
    "mean = Theta(5000,5600)\n",
    "sigma.update(400)\n",
    "mean.update(5250)\n",
    "theta = np.asarray([mean,sigma])\n",
    "likelyhoodHistory.append(stochasticGradientDecent(theta, 5, logLikely, df[\"mass\"], 0.001, normalPDF, 20, 0.00001, 350)[1])\n",
    "print(theta[0].value, theta[1].value)\n",
    "params.append(theta)\n"
   ]
  },
  {
   "cell_type": "code",
   "execution_count": null,
   "metadata": {},
   "outputs": [
    {
     "name": "stdout",
     "output_type": "stream",
     "text": [
      "5302.165783685885 101.10413456142615\n"
     ]
    }
   ],
   "source": [
    "sigma = Theta(0,300)\n",
    "mean = Theta(5000,5600)\n",
    "sigma.update(400)\n",
    "mean.update(5250)\n",
    "theta = np.asarray([mean,sigma])\n",
    "likelyhoodHistory.append(momentumGradientDecent(theta, 10, logLikely, df[\"mass\"], 0.001, normalPDF, 30, 0.000001,350, 0.9)[1])\n",
    "print(theta[0].value, theta[1].value)\n",
    "params.append(theta)\n"
   ]
  },
  {
   "cell_type": "code",
   "execution_count": null,
   "metadata": {},
   "outputs": [
    {
     "name": "stdout",
     "output_type": "stream",
     "text": [
      "max steps\n",
      "5296.719667796786 97.78888255385813\n"
     ]
    }
   ],
   "source": [
    "sigma = Theta(0,300)\n",
    "mean = Theta(5000,5600)\n",
    "sigma.update(400)\n",
    "mean.update(5250)\n",
    "theta = np.asarray([mean,sigma])\n",
    "likelyhoodHistory.append(nesterovGradientDecent(theta, 10, logLikely, df[\"mass\"], 0.001, normalPDF, 30, 0.000001,350, 0.9)[1])\n",
    "print(theta[0].value, theta[1].value)\n",
    "params.append(theta)\n"
   ]
  },
  {
   "cell_type": "markdown",
   "metadata": {},
   "source": [
    "## Plotting the results\n",
    "\n",
    "1. Plot the PDF with best-fit values overlaid on to a histogram of the data.\n",
    "  - _**Hint**: to achieve the same normalisation for the data and the PDF, you may choose to use `density=True` in the arguments to `pyplot.hist`_\n",
    "1. Plot a 'likelihood trace' (i.e. the 'history' of the likelihood at each iteration) for the following cases:\n",
    "  - Several choices of fixed step size for batch gradient descent\n",
    "  - The effect of different methods of gradient-descent (6 in total)\n",
    "    - batch\n",
    "    - mini-batch\n",
    "    - stochastic\n",
    "    - all of the above using the Nesterov technique"
   ]
  },
  {
   "cell_type": "code",
   "execution_count": null,
   "metadata": {},
   "outputs": [
    {
     "data": {
      "image/png": "[encoded data removed]",
      "text/plain": [
       "<Figure size 432x288 with 1 Axes>"
      ]
     },
     "metadata": {
      "needs_background": "light"
     },
     "output_type": "display_data"
    }
   ],
   "source": [
    "num_bins = 50\n",
    "_, bins, _ = plt.hist(df[\"mass\"], num_bins, density=True)\n",
    "bin_width = (bins[-1] - bins[0])/num_bins\n",
    "plt.xlabel(\"Mass [MeV]\")\n",
    "plt.ylabel(f\"Events / ({bin_width:.1f} MeV)\")\n",
    "\n",
    "x = np.linspace(5000,5600,1000)\n",
    "labels = [\"GD\",\"SGD\",\"momentumGD\",\"Nesterov\"]\n",
    "for i, theta in enumerate(params):\n",
    "    fx = [normalPDF(xi,theta) for xi in x]\n",
    "    plt.plot(x,fx, label = labels[i])\n",
    "plt.legend()\n",
    "plt.show()"
   ]
  },
  {
   "cell_type": "code",
   "execution_count": null,
   "metadata": {},
   "outputs": [
    {
     "data": {
      "image/png": "[encoded data removed]",
      "text/plain": [
       "<Figure size 432x288 with 1 Axes>"
      ]
     },
     "metadata": {
      "needs_background": "light"
     },
     "output_type": "display_data"
    }
   ],
   "source": [
    "for i,Li in enumerate(likelyhoodHistory):\n",
    "    plt.plot(Li, label = labels[i])\n",
    "\n",
    "plt.xlabel(\"steps\")\n",
    "plt.ylabel(f\"LogLikelyhood\")\n",
    "plt.legend()\n",
    "plt.show()"
   ]
  }
 ],
 "metadata": {
  "kernelspec": {
   "display_name": "Python 3",
   "language": "python",
   "name": "python3"
  },
  "language_info": {
   "codemirror_mode": {
    "name": "ipython",
    "version": 3
   },
   "file_extension": ".py",
   "mimetype": "text/x-python",
   "name": "python",
   "nbconvert_exporter": "python",
   "pygments_lexer": "ipython3",
   "version": "3.8.10"
  }
 },
 "nbformat": 4,
 "nbformat_minor": 4
}
